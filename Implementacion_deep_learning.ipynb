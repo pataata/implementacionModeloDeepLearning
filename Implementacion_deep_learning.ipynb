{
  "nbformat": 4,
  "nbformat_minor": 0,
  "metadata": {
    "colab": {
      "provenance": []
    },
    "kernelspec": {
      "name": "python3",
      "display_name": "Python 3"
    },
    "language_info": {
      "name": "python"
    },
    "accelerator": "GPU",
    "gpuClass": "standard"
  },
  "cells": [
    {
      "cell_type": "markdown",
      "source": [
        "# Problema seleccionado: Reconocimiento de dígitos en imágenes\n",
        "Se entrenará un modelo para que sea capas de reconocer el número exterior de una casa a partir de una fotografía.\n",
        "\n",
        "Se usará el dataset SVHN (Street View Of House Numbers), el cuál contiene 73,257 digitos de entrenamiento, 26,032 digitos para pruebas y  un conjunto extra de 531,131 digitos más sencillos de analizar, los cuáles pueden usarse para extender el entrenamiento del modelo, pero no se usarán en este ejercicio.\n",
        "\n",
        "Se utilizará la variante del dataset que tiene una versión 32 x 32 de todas las imágenes."
      ],
      "metadata": {
        "id": "6aOr4WDpcswK"
      }
    },
    {
      "cell_type": "code",
      "source": [
        "# Montar la unidad de google drive donde se encuentran las imágenes\n",
        "\n",
        "from google.colab import drive\n",
        "drive.mount('/content/drive')\n",
        "\n",
        "%cd \"/content/drive/MyDrive/SVHN\""
      ],
      "metadata": {
        "colab": {
          "base_uri": "https://localhost:8080/",
          "height": 0
        },
        "id": "DuvlHrDOvJiM",
        "outputId": "29bde649-b32f-4488-dfcf-43998fef005b"
      },
      "execution_count": 37,
      "outputs": [
        {
          "output_type": "stream",
          "name": "stdout",
          "text": [
            "Drive already mounted at /content/drive; to attempt to forcibly remount, call drive.mount(\"/content/drive\", force_remount=True).\n",
            "/content/drive/MyDrive/SVHN\n"
          ]
        }
      ]
    },
    {
      "cell_type": "code",
      "source": [
        "#imports\n",
        "\n",
        "import numpy as np\n",
        "import keras\n",
        "import seaborn as sns\n",
        "from matplotlib import pyplot as plt\n",
        "from scipy.io import loadmat\n",
        "from sklearn.model_selection import train_test_split\n",
        "from sklearn.preprocessing import LabelBinarizer\n",
        "from sklearn.metrics import confusion_matrix\n",
        "from keras.preprocessing.image import ImageDataGenerator\n",
        "from PIL import Image\n",
        "from numpy import asarray\n",
        "%matplotlib inline"
      ],
      "metadata": {
        "id": "2TtqwGTDe5f4"
      },
      "execution_count": 58,
      "outputs": []
    },
    {
      "cell_type": "code",
      "source": [
        "# Establecer un estado aleatorio para numpy\n",
        "\n",
        "np.random.seed(20)"
      ],
      "metadata": {
        "id": "W9bR0Gp3s0lI"
      },
      "execution_count": 3,
      "outputs": []
    },
    {
      "cell_type": "code",
      "source": [
        "# Cargar los datos\n",
        "\n",
        "train_raw = loadmat('train_32x32.mat')\n",
        "test_raw = loadmat('test_32x32.mat')"
      ],
      "metadata": {
        "id": "F7mN6VOdtWPE"
      },
      "execution_count": 4,
      "outputs": []
    },
    {
      "cell_type": "code",
      "source": [
        "# Cargar las imágenes y sus etiquetas\n",
        "\n",
        "train_images = np.array(train_raw['X'])\n",
        "test_images = np.array(test_raw['X'])\n",
        "\n",
        "train_labels = train_raw['y']\n",
        "test_labels = test_raw['y']"
      ],
      "metadata": {
        "id": "XhQeFPqTftEn"
      },
      "execution_count": 5,
      "outputs": []
    },
    {
      "cell_type": "code",
      "source": [
        "# Revisar las dimensiones de los datos\n",
        "\n",
        "print(train_images.shape)\n",
        "print(test_images.shape)"
      ],
      "metadata": {
        "colab": {
          "base_uri": "https://localhost:8080/",
          "height": 0
        },
        "id": "qDs3JThFxS2p",
        "outputId": "b96d7723-fa11-464d-97f5-4ae218c22216"
      },
      "execution_count": 6,
      "outputs": [
        {
          "output_type": "stream",
          "name": "stdout",
          "text": [
            "(32, 32, 3, 73257)\n",
            "(32, 32, 3, 26032)\n"
          ]
        }
      ]
    },
    {
      "cell_type": "code",
      "source": [
        "# Acomodar los ejes de las imágenes\n",
        "\n",
        "train_images = np.moveaxis(train_images, -1, 0)\n",
        "test_images = np.moveaxis(test_images, -1, 0)\n",
        "\n",
        "print(train_images.shape)\n",
        "print(test_images.shape)"
      ],
      "metadata": {
        "colab": {
          "base_uri": "https://localhost:8080/",
          "height": 0
        },
        "id": "9OrS9_Z7yUNR",
        "outputId": "5bd14303-7e8b-4196-8f01-ec885c83cf9e"
      },
      "execution_count": 7,
      "outputs": [
        {
          "output_type": "stream",
          "name": "stdout",
          "text": [
            "(73257, 32, 32, 3)\n",
            "(26032, 32, 32, 3)\n"
          ]
        }
      ]
    },
    {
      "cell_type": "code",
      "source": [
        "# Graficar una imágen aleatoria con su etiqueta\n",
        "\n",
        "plt.imshow(train_images[7610])\n",
        "plt.show()\n",
        "\n",
        "print('Label: ', train_labels[7610])"
      ],
      "metadata": {
        "colab": {
          "base_uri": "https://localhost:8080/",
          "height": 284
        },
        "id": "O1hsrBL8zjnS",
        "outputId": "9b9fef15-9e6b-4724-f5dc-6d912a7c395d"
      },
      "execution_count": 8,
      "outputs": [
        {
          "output_type": "display_data",
          "data": {
            "text/plain": [
              "<Figure size 432x288 with 1 Axes>"
            ],
            "image/png": "[encoded data removed]"
          },
          "metadata": {
            "needs_background": "light"
          }
        },
        {
          "output_type": "stream",
          "name": "stdout",
          "text": [
            "Label:  [8]\n"
          ]
        }
      ]
    },
    {
      "cell_type": "code",
      "source": [
        "# Convertir las imágenes a 'float64'\n",
        "\n",
        "train_images = train_images.astype('float64')\n",
        "test_images = test_images.astype('float64')\n",
        "\n",
        "# Convertir las etiquetas a 'int64'\n",
        "\n",
        "train_labels = train_labels.astype('int64')\n",
        "test_labels = test_labels.astype('int64')"
      ],
      "metadata": {
        "id": "4_aXLItx9VZe"
      },
      "execution_count": 9,
      "outputs": []
    },
    {
      "cell_type": "code",
      "source": [
        "# Escalar los datos\n",
        "scaled_train_images = train_images/255.0\n",
        "scaled_test_images = test_images/255.0"
      ],
      "metadata": {
        "id": "py90w-xP0rk5"
      },
      "execution_count": 10,
      "outputs": []
    },
    {
      "cell_type": "code",
      "source": [
        "scaled_test_images[0]"
      ],
      "metadata": {
        "colab": {
          "base_uri": "https://localhost:8080/"
        },
        "id": "GhAfEj_Uh0--",
        "outputId": "d6eb8dc0-0eaf-46cf-9dc9-169b9ab578a7"
      },
      "execution_count": null,
      "outputs": [
        {
          "output_type": "execute_result",
          "data": {
            "text/plain": [
              "array([[[0.14901961, 0.40392157, 0.23529412],\n",
              "        [0.15294118, 0.40784314, 0.23921569],\n",
              "        [0.15294118, 0.40784314, 0.24313725],\n",
              "        ...,\n",
              "        [0.16078431, 0.4       , 0.23921569],\n",
              "        [0.16470588, 0.40392157, 0.24313725],\n",
              "        [0.15294118, 0.38039216, 0.22352941]],\n",
              "\n",
              "       [[0.15294118, 0.40784314, 0.23921569],\n",
              "        [0.15294118, 0.40784314, 0.23921569],\n",
              "        [0.15294118, 0.40784314, 0.24313725],\n",
              "        ...,\n",
              "        [0.16078431, 0.4       , 0.23921569],\n",
              "        [0.16862745, 0.39607843, 0.24705882],\n",
              "        [0.15294118, 0.38039216, 0.22352941]],\n",
              "\n",
              "       [[0.14901961, 0.41176471, 0.24313725],\n",
              "        [0.14509804, 0.40784314, 0.23921569],\n",
              "        [0.15294118, 0.41568627, 0.24705882],\n",
              "        ...,\n",
              "        [0.16862745, 0.39607843, 0.24705882],\n",
              "        [0.16862745, 0.39215686, 0.25098039],\n",
              "        [0.15294118, 0.38039216, 0.23137255]],\n",
              "\n",
              "       ...,\n",
              "\n",
              "       [[0.20392157, 0.46666667, 0.30588235],\n",
              "        [0.20784314, 0.47058824, 0.30980392],\n",
              "        [0.2       , 0.4627451 , 0.30196078],\n",
              "        ...,\n",
              "        [0.17254902, 0.4627451 , 0.27058824],\n",
              "        [0.17254902, 0.45882353, 0.27843137],\n",
              "        [0.16078431, 0.44705882, 0.27058824]],\n",
              "\n",
              "       [[0.19607843, 0.45882353, 0.29803922],\n",
              "        [0.2       , 0.4627451 , 0.30196078],\n",
              "        [0.19215686, 0.45490196, 0.29411765],\n",
              "        ...,\n",
              "        [0.17254902, 0.45882353, 0.27843137],\n",
              "        [0.17647059, 0.45490196, 0.28235294],\n",
              "        [0.16470588, 0.44313725, 0.27058824]],\n",
              "\n",
              "       [[0.18823529, 0.45098039, 0.29019608],\n",
              "        [0.18823529, 0.45098039, 0.29019608],\n",
              "        [0.18039216, 0.44313725, 0.28235294],\n",
              "        ...,\n",
              "        [0.16862745, 0.45490196, 0.27843137],\n",
              "        [0.17254902, 0.45098039, 0.27843137],\n",
              "        [0.16470588, 0.44313725, 0.27843137]]])"
            ]
          },
          "metadata": {},
          "execution_count": 31
        }
      ]
    },
    {
      "cell_type": "code",
      "source": [
        "# One-hot encoding de las etiquetas de entrenamiento y pruebas\n",
        "\n",
        "lb = LabelBinarizer()\n",
        "train_labels = lb.fit_transform(train_labels)\n",
        "test_labels = lb.fit_transform(test_labels)"
      ],
      "metadata": {
        "id": "-HO7UA379DnD"
      },
      "execution_count": 11,
      "outputs": []
    },
    {
      "cell_type": "code",
      "source": [
        "# Crear un set de validación a partir de los datos de entrenamiento\n",
        "\n",
        "X_train, X_val, y_train, y_val = train_test_split(scaled_train_images, train_labels,\n",
        "                                                  test_size=0.15, random_state=22)"
      ],
      "metadata": {
        "id": "-LvuX2Kx0qin"
      },
      "execution_count": 12,
      "outputs": []
    },
    {
      "cell_type": "code",
      "source": [
        "# Data augmentation\n",
        "\n",
        "datagen = ImageDataGenerator(rotation_range=8,\n",
        "                             zoom_range=[0.95, 1.05],\n",
        "                             height_shift_range=0.10,\n",
        "                             shear_range=0.15)"
      ],
      "metadata": {
        "id": "d-EWF3pL1Dbz"
      },
      "execution_count": 13,
      "outputs": []
    },
    {
      "cell_type": "code",
      "source": [
        "# Crear modelo\n",
        "\n",
        "keras.backend.clear_session()\n",
        "\n",
        "model = keras.Sequential([\n",
        "    keras.layers.Conv2D(32, (3, 3), padding='same', \n",
        "                           activation='relu',\n",
        "                           input_shape=(32, 32, 3)),\n",
        "    keras.layers.Conv2D(32, (3, 3), padding='same', \n",
        "                        activation='relu'),\n",
        "    keras.layers.MaxPooling2D((2, 2)),\n",
        "    keras.layers.Conv2D(64, (3, 3), padding='same', \n",
        "                           activation='relu'),\n",
        "    keras.layers.Conv2D(64, (3, 3), padding='same',\n",
        "                        activation='relu'),\n",
        "    keras.layers.MaxPooling2D((2, 2)),\n",
        "    keras.layers.Conv2D(128, (3, 3), padding='same', \n",
        "                           activation='relu'),\n",
        "    keras.layers.BatchNormalization(),\n",
        "    keras.layers.Conv2D(128, (3, 3), padding='same',\n",
        "                        activation='relu'),\n",
        "    keras.layers.MaxPooling2D((2, 2)),\n",
        "    keras.layers.Dropout(0.3),\n",
        "    \n",
        "    keras.layers.Flatten(),\n",
        "    keras.layers.Dense(128, activation='relu'),\n",
        "    keras.layers.Dropout(0.4),    \n",
        "    keras.layers.Dense(10,  activation='softmax')\n",
        "])\n",
        "\n",
        "early_stopping = keras.callbacks.EarlyStopping(patience=8)\n",
        "optimizer = keras.optimizers.Adam(lr=1e-3, amsgrad=True)\n",
        "model_checkpoint = keras.callbacks.ModelCheckpoint(\n",
        "                   '/kaggle/working/best_cnn.h5', \n",
        "                   save_best_only=True)\n",
        "model.compile(optimizer=optimizer,\n",
        "              loss='categorical_crossentropy',\n",
        "              metrics=['accuracy'])"
      ],
      "metadata": {
        "id": "hST5uQ2U59gd",
        "colab": {
          "base_uri": "https://localhost:8080/",
          "height": 0
        },
        "outputId": "1b330027-b4fc-40b6-e03e-c15435b63f43"
      },
      "execution_count": 14,
      "outputs": [
        {
          "output_type": "stream",
          "name": "stderr",
          "text": [
            "/usr/local/lib/python3.8/dist-packages/keras/optimizers/optimizer_v2/adam.py:110: UserWarning: The `lr` argument is deprecated, use `learning_rate` instead.\n",
            "  super(Adam, self).__init__(name, **kwargs)\n"
          ]
        }
      ]
    },
    {
      "cell_type": "code",
      "source": [
        "model.summary()"
      ],
      "metadata": {
        "colab": {
          "base_uri": "https://localhost:8080/",
          "height": 0
        },
        "id": "AbgWKcWa6M89",
        "outputId": "5008ef5c-1751-47a2-f820-4526869e5e7f"
      },
      "execution_count": 15,
      "outputs": [
        {
          "output_type": "stream",
          "name": "stdout",
          "text": [
            "Model: \"sequential\"\n",
            "_________________________________________________________________\n",
            " Layer (type)                Output Shape              Param #   \n",
            "=================================================================\n",
            " conv2d (Conv2D)             (None, 32, 32, 32)        896       \n",
            "                                                                 \n",
            " conv2d_1 (Conv2D)           (None, 32, 32, 32)        9248      \n",
            "                                                                 \n",
            " max_pooling2d (MaxPooling2D  (None, 16, 16, 32)       0         \n",
            " )                                                               \n",
            "                                                                 \n",
            " conv2d_2 (Conv2D)           (None, 16, 16, 64)        18496     \n",
            "                                                                 \n",
            " conv2d_3 (Conv2D)           (None, 16, 16, 64)        36928     \n",
            "                                                                 \n",
            " max_pooling2d_1 (MaxPooling  (None, 8, 8, 64)         0         \n",
            " 2D)                                                             \n",
            "                                                                 \n",
            " conv2d_4 (Conv2D)           (None, 8, 8, 128)         73856     \n",
            "                                                                 \n",
            " batch_normalization (BatchN  (None, 8, 8, 128)        512       \n",
            " ormalization)                                                   \n",
            "                                                                 \n",
            " conv2d_5 (Conv2D)           (None, 8, 8, 128)         147584    \n",
            "                                                                 \n",
            " max_pooling2d_2 (MaxPooling  (None, 4, 4, 128)        0         \n",
            " 2D)                                                             \n",
            "                                                                 \n",
            " dropout (Dropout)           (None, 4, 4, 128)         0         \n",
            "                                                                 \n",
            " flatten (Flatten)           (None, 2048)              0         \n",
            "                                                                 \n",
            " dense (Dense)               (None, 128)               262272    \n",
            "                                                                 \n",
            " dropout_1 (Dropout)         (None, 128)               0         \n",
            "                                                                 \n",
            " dense_1 (Dense)             (None, 10)                1290      \n",
            "                                                                 \n",
            "=================================================================\n",
            "Total params: 551,082\n",
            "Trainable params: 550,826\n",
            "Non-trainable params: 256\n",
            "_________________________________________________________________\n"
          ]
        }
      ]
    },
    {
      "cell_type": "code",
      "source": [
        "# Entrenar al modelo para hacer predicciones\n",
        "\n",
        "history = model.fit_generator(datagen.flow(X_train, y_train, batch_size=128),\n",
        "                              epochs=10, validation_data=(X_val, y_val),\n",
        "                              callbacks=[early_stopping, model_checkpoint])"
      ],
      "metadata": {
        "colab": {
          "base_uri": "https://localhost:8080/",
          "height": 0
        },
        "id": "5G85Mu4z2S-3",
        "outputId": "0d58d8d1-363a-41f1-ccdf-0c5616471142"
      },
      "execution_count": 16,
      "outputs": [
        {
          "output_type": "stream",
          "name": "stderr",
          "text": [
            "<ipython-input-16-f7ae6c593a22>:3: UserWarning: `Model.fit_generator` is deprecated and will be removed in a future version. Please use `Model.fit`, which supports generators.\n",
            "  history = model.fit_generator(datagen.flow(X_train, y_train, batch_size=128),\n"
          ]
        },
        {
          "output_type": "stream",
          "name": "stdout",
          "text": [
            "Epoch 1/10\n",
            "487/487 [==============================] - 70s 116ms/step - loss: 1.0607 - accuracy: 0.6503 - val_loss: 1.6344 - val_accuracy: 0.8209\n",
            "Epoch 2/10\n",
            "487/487 [==============================] - 36s 75ms/step - loss: 0.4892 - accuracy: 0.8537 - val_loss: 0.3227 - val_accuracy: 0.9020\n",
            "Epoch 3/10\n",
            "487/487 [==============================] - 38s 78ms/step - loss: 0.4081 - accuracy: 0.8805 - val_loss: 0.2771 - val_accuracy: 0.9211\n",
            "Epoch 4/10\n",
            "487/487 [==============================] - 38s 79ms/step - loss: 0.3630 - accuracy: 0.8943 - val_loss: 0.2507 - val_accuracy: 0.9299\n",
            "Epoch 5/10\n",
            "487/487 [==============================] - 37s 75ms/step - loss: 0.3373 - accuracy: 0.9020 - val_loss: 0.2635 - val_accuracy: 0.9246\n",
            "Epoch 6/10\n",
            "487/487 [==============================] - 37s 75ms/step - loss: 0.3087 - accuracy: 0.9105 - val_loss: 0.2365 - val_accuracy: 0.9339\n",
            "Epoch 7/10\n",
            "487/487 [==============================] - 36s 75ms/step - loss: 0.2990 - accuracy: 0.9137 - val_loss: 0.2392 - val_accuracy: 0.9329\n",
            "Epoch 8/10\n",
            "487/487 [==============================] - 37s 75ms/step - loss: 0.2812 - accuracy: 0.9181 - val_loss: 0.2288 - val_accuracy: 0.9390\n",
            "Epoch 9/10\n",
            "487/487 [==============================] - 36s 75ms/step - loss: 0.2707 - accuracy: 0.9228 - val_loss: 0.2283 - val_accuracy: 0.9378\n",
            "Epoch 10/10\n",
            "487/487 [==============================] - 36s 74ms/step - loss: 0.2578 - accuracy: 0.9264 - val_loss: 0.2238 - val_accuracy: 0.9385\n"
          ]
        }
      ]
    },
    {
      "cell_type": "code",
      "source": [
        "# Evaluar precisiones de entrenamiento, validación y pérdidas\n",
        "\n",
        "train_acc = history.history['accuracy']\n",
        "val_acc = history.history['val_accuracy']\n",
        "\n",
        "train_loss = history.history['loss']\n",
        "val_loss = history.history['val_loss']"
      ],
      "metadata": {
        "id": "6D-X0wqs2_ri"
      },
      "execution_count": 17,
      "outputs": []
    },
    {
      "cell_type": "code",
      "source": [
        "# Visualizar epocas vs. precisión de entrenamiento, validación y pérdidas\n",
        "\n",
        "plt.figure(figsize=(20, 10))\n",
        "\n",
        "plt.subplot(1, 2, 1)\n",
        "plt.plot(train_acc, label='Precisión de Entrenamiento')\n",
        "plt.plot(val_acc, label='Precisión de validación')\n",
        "plt.legend()\n",
        "plt.title('Epocas vs. Precisión de Entrenamiento y Validación')\n",
        "    \n",
        "plt.subplot(1, 2, 2)\n",
        "plt.plot(train_loss, label='Training Loss')\n",
        "plt.plot(val_loss, label='Validation Loss')\n",
        "plt.legend()\n",
        "plt.title('Epocas vs. Pérdidas de Entrenamiento y Validacón')\n",
        "\n",
        "plt.show()"
      ],
      "metadata": {
        "colab": {
          "base_uri": "https://localhost:8080/",
          "height": 584
        },
        "id": "-ehwhnduBxbt",
        "outputId": "9bd7c2de-3027-4659-d0e2-7265bf3447c1"
      },
      "execution_count": 18,
      "outputs": [
        {
          "output_type": "display_data",
          "data": {
            "text/plain": [
              "<Figure size 1440x720 with 2 Axes>"
            ],
            "image/png": "[encoded data removed]"
          },
          "metadata": {
            "needs_background": "light"
          }
        }
      ]
    },
    {
      "cell_type": "code",
      "source": [
        "# Evaluar con el dataset de pruebas\n",
        "test_loss, test_acc = model.evaluate(x=scaled_test_images, y=test_labels, verbose=0)\n",
        "\n",
        "print('Test accuracy is: {:0.4f} \\nTest loss is: {:0.4f}'.\n",
        "      format(test_acc, test_loss))"
      ],
      "metadata": {
        "colab": {
          "base_uri": "https://localhost:8080/",
          "height": 0
        },
        "id": "DpszZ9ID30xH",
        "outputId": "e8ba5e93-c7d3-459c-f293-6171336c5e6d"
      },
      "execution_count": 19,
      "outputs": [
        {
          "output_type": "stream",
          "name": "stdout",
          "text": [
            "Test accuracy is: 0.9487 \n",
            "Test loss is: 0.2019\n"
          ]
        }
      ]
    },
    {
      "cell_type": "markdown",
      "source": [
        "# Cambios al modelo\n",
        "Cambios en la arquitectura:\n",
        "- Antes se tenían 3 pares de redes convolucionales con capas de Max pooling entre ellas, ahora se implementaran 3 \"bloques\" con tres capas convolucionales, separadas por una capa de Max pooling y otra de dropout.\n",
        "- Igualmente entre las capas convolucionales se agregará batch normalization.\n",
        "\n",
        "Con estos nuevos cambios se busca conseguir un modelo más profundo, evitando el overfitting  y los problemas de gradientes con ayuda de la regularización.\n",
        "\n"
      ],
      "metadata": {
        "id": "GvlvM9dwOKNZ"
      }
    },
    {
      "cell_type": "markdown",
      "source": [
        "# Nuevo Cambios\n",
        "\n",
        "Para evaluar de mejor manera la efectividad de los cambios, se entrenará el nuevo modelo con 15 epocas en lugar de 10, esto con el fin de aprovechar la cantidad mayor de parámetros entrenables que tiene el nuevo modelo."
      ],
      "metadata": {
        "id": "ZSF-7M0ZVItv"
      }
    },
    {
      "cell_type": "code",
      "source": [
        "# Nueva arquitectura\n",
        "keras.backend.clear_session()\n",
        "\n",
        "model = keras.Sequential([\n",
        "    # Primer bloque\n",
        "    keras.layers.Conv2D(32, (3, 3), padding='same',       # Capa convolucional número 1\n",
        "                           activation='relu',\n",
        "                           input_shape=(32, 32, 3)),\n",
        "    keras.layers.BatchNormalization(),                    # Batch normalization\n",
        "    keras.layers.Conv2D(32, (3, 3), padding='same',       # Capa convolucional número 2\n",
        "                            activation='relu',\n",
        "                            input_shape=(32, 32, 3)),\n",
        "    keras.layers.BatchNormalization(),                    # Batch normalization\n",
        "    keras.layers.Conv2D(32, (3, 3), padding='same',       # Capa convolucional número 3\n",
        "                        activation='relu',\n",
        "                        input_shape=(32, 32, 3)),\n",
        "    keras.layers.MaxPooling2D((2, 2)),                    # Max pooling\n",
        "    keras.layers.Dropout(0.3),                            # Drop out\n",
        "    # Segundo bloque\n",
        "    keras.layers.Conv2D(64, (3, 3), padding='same',       # Capa convolucional número 4\n",
        "                           activation='relu'),\n",
        "    keras.layers.BatchNormalization(),                    # Batch normalization\n",
        "    keras.layers.Conv2D(64, (3, 3), padding='same',       # Capa convolucional número 5\n",
        "                        activation='relu'),\n",
        "    keras.layers.BatchNormalization(),                    # Batch normalization\n",
        "    keras.layers.Conv2D(64, (3, 3), padding='same',       # Capa convolucional número 6\n",
        "                        activation='relu'),\n",
        "    keras.layers.MaxPooling2D((2, 2)),                    # Max pooling\n",
        "    keras.layers.Dropout(0.3),                            # Drop out\n",
        "    # Tercer bloque\n",
        "    keras.layers.Conv2D(128, (3, 3), padding='same',      # Capa convolucional número 7\n",
        "                           activation='relu'),\n",
        "    keras.layers.BatchNormalization(),                    # Batch normalization\n",
        "    keras.layers.Conv2D(128, (3, 3), padding='same',      # Capa convolucional número 8\n",
        "                        activation='relu'),\n",
        "    keras.layers.BatchNormalization(),                    # Batch normalization\n",
        "    keras.layers.Conv2D(128, (3, 3), padding='same',      # Capa convolucional número 9\n",
        "                        activation='relu'),\n",
        "    keras.layers.MaxPooling2D((2, 2)),                    # Max pooling\n",
        "    keras.layers.Dropout(0.3),                            # Drop out\n",
        "    \n",
        "    keras.layers.Flatten(),\n",
        "    keras.layers.Dense(128, activation='relu'),\n",
        "    keras.layers.Dropout(0.4),    \n",
        "    keras.layers.Dense(10,  activation='softmax')\n",
        "])\n",
        "\n",
        "early_stopping = keras.callbacks.EarlyStopping(patience=8)\n",
        "optimizer = keras.optimizers.Adam(lr=1e-3, amsgrad=True)\n",
        "model_checkpoint = keras.callbacks.ModelCheckpoint(\n",
        "                   '/kaggle/working/best_cnn.h5', \n",
        "                   save_best_only=True)\n",
        "model.compile(optimizer=optimizer,loss='categorical_crossentropy',metrics=['accuracy'])"
      ],
      "metadata": {
        "colab": {
          "base_uri": "https://localhost:8080/"
        },
        "id": "JQjgyvD4P13M",
        "outputId": "5bcdc604-3a0e-49db-9937-78d67f6cb084"
      },
      "execution_count": null,
      "outputs": [
        {
          "output_type": "stream",
          "name": "stderr",
          "text": [
            "/usr/local/lib/python3.8/dist-packages/keras/optimizers/optimizer_v2/adam.py:110: UserWarning: The `lr` argument is deprecated, use `learning_rate` instead.\n",
            "  super(Adam, self).__init__(name, **kwargs)\n"
          ]
        }
      ]
    },
    {
      "cell_type": "code",
      "source": [
        "model.summary()"
      ],
      "metadata": {
        "id": "zKlYDNxgbX8q"
      },
      "execution_count": null,
      "outputs": []
    },
    {
      "cell_type": "code",
      "source": [
        "# Entrenar al modelo para hacer predicciones\n",
        "\n",
        "history = model.fit_generator(datagen.flow(X_train, y_train, batch_size=128),\n",
        "                              epochs=15, validation_data=(X_val, y_val),\n",
        "                              callbacks=[early_stopping, model_checkpoint])"
      ],
      "metadata": {
        "colab": {
          "base_uri": "https://localhost:8080/"
        },
        "id": "xENpRfOHba1i",
        "outputId": "a73f4c5f-1a2a-418a-8ebb-6c54d40d2a8c"
      },
      "execution_count": null,
      "outputs": [
        {
          "output_type": "stream",
          "name": "stdout",
          "text": [
            "Epoch 1/15\n"
          ]
        },
        {
          "output_type": "stream",
          "name": "stderr",
          "text": [
            "<ipython-input-15-14c38b65b64a>:3: UserWarning: `Model.fit_generator` is deprecated and will be removed in a future version. Please use `Model.fit`, which supports generators.\n",
            "  history = model.fit_generator(datagen.flow(X_train, y_train, batch_size=128),\n"
          ]
        },
        {
          "output_type": "stream",
          "name": "stdout",
          "text": [
            "487/487 [==============================] - 38s 79ms/step - loss: 2.0357 - accuracy: 0.2727 - val_loss: 1.5398 - val_accuracy: 0.4525\n",
            "Epoch 2/15\n",
            "487/487 [==============================] - 39s 80ms/step - loss: 1.3446 - accuracy: 0.5240 - val_loss: 0.5608 - val_accuracy: 0.8472\n",
            "Epoch 3/15\n",
            "487/487 [==============================] - 39s 80ms/step - loss: 0.7178 - accuracy: 0.7698 - val_loss: 0.3407 - val_accuracy: 0.9052\n",
            "Epoch 4/15\n",
            "487/487 [==============================] - 39s 81ms/step - loss: 0.4274 - accuracy: 0.8789 - val_loss: 0.3069 - val_accuracy: 0.9137\n",
            "Epoch 5/15\n",
            "487/487 [==============================] - 39s 79ms/step - loss: 0.3663 - accuracy: 0.8991 - val_loss: 0.3099 - val_accuracy: 0.9128\n",
            "Epoch 6/15\n",
            "487/487 [==============================] - 38s 78ms/step - loss: 0.3218 - accuracy: 0.9100 - val_loss: 0.2483 - val_accuracy: 0.9341\n",
            "Epoch 7/15\n",
            "487/487 [==============================] - 38s 79ms/step - loss: 0.2995 - accuracy: 0.9166 - val_loss: 0.2278 - val_accuracy: 0.9384\n",
            "Epoch 8/15\n",
            "487/487 [==============================] - 39s 79ms/step - loss: 0.2798 - accuracy: 0.9225 - val_loss: 0.2259 - val_accuracy: 0.9388\n",
            "Epoch 9/15\n",
            "487/487 [==============================] - 38s 79ms/step - loss: 0.2551 - accuracy: 0.9294 - val_loss: 0.2028 - val_accuracy: 0.9490\n",
            "Epoch 10/15\n",
            "487/487 [==============================] - 37s 75ms/step - loss: 0.2464 - accuracy: 0.9316 - val_loss: 0.1991 - val_accuracy: 0.9486\n",
            "Epoch 11/15\n",
            "487/487 [==============================] - 37s 76ms/step - loss: 0.2362 - accuracy: 0.9338 - val_loss: 0.2040 - val_accuracy: 0.9465\n",
            "Epoch 12/15\n",
            "487/487 [==============================] - 39s 79ms/step - loss: 0.2224 - accuracy: 0.9377 - val_loss: 0.1999 - val_accuracy: 0.9484\n",
            "Epoch 13/15\n",
            "487/487 [==============================] - 37s 76ms/step - loss: 0.2140 - accuracy: 0.9401 - val_loss: 0.2195 - val_accuracy: 0.9445\n",
            "Epoch 14/15\n",
            "487/487 [==============================] - 37s 75ms/step - loss: 0.2059 - accuracy: 0.9423 - val_loss: 0.1924 - val_accuracy: 0.9516\n",
            "Epoch 15/15\n",
            "487/487 [==============================] - 37s 77ms/step - loss: 0.1999 - accuracy: 0.9443 - val_loss: 0.2233 - val_accuracy: 0.9401\n"
          ]
        }
      ]
    },
    {
      "cell_type": "code",
      "source": [
        "# Evaluar precisiones de entrenamiento, validación y pérdidas\n",
        "\n",
        "train_acc = history.history['accuracy']\n",
        "val_acc = history.history['val_accuracy']\n",
        "\n",
        "train_loss = history.history['loss']\n",
        "val_loss = history.history['val_loss']"
      ],
      "metadata": {
        "id": "fImxVkUqbkDx"
      },
      "execution_count": null,
      "outputs": []
    },
    {
      "cell_type": "code",
      "source": [
        "# Visualizar epocas vs. precisión de entrenamiento, validación y pérdidas\n",
        "\n",
        "plt.figure(figsize=(20, 10))\n",
        "\n",
        "plt.subplot(1, 2, 1)\n",
        "plt.plot(train_acc, label='Precisión de Entrenamiento')\n",
        "plt.plot(val_acc, label='Precisión de validación')\n",
        "plt.legend()\n",
        "plt.title('Epocas vs. Precisión de Entrenamiento y Validación')\n",
        "    \n",
        "plt.subplot(1, 2, 2)\n",
        "plt.plot(train_loss, label='Training Loss')\n",
        "plt.plot(val_loss, label='Validation Loss')\n",
        "plt.legend()\n",
        "plt.title('Epocas vs. Pérdidas de Entrenamiento y Validacón')\n",
        "\n",
        "plt.show()"
      ],
      "metadata": {
        "colab": {
          "base_uri": "https://localhost:8080/",
          "height": 607
        },
        "id": "j0Z0ygqxbnMt",
        "outputId": "3dd2c777-ec19-4a40-9ef3-b6803ea131dc"
      },
      "execution_count": null,
      "outputs": [
        {
          "output_type": "display_data",
          "data": {
            "text/plain": [
              "<Figure size 1440x720 with 2 Axes>"
            ],
            "image/png": "[encoded data removed]"
          },
          "metadata": {
            "needs_background": "light"
          }
        }
      ]
    },
    {
      "cell_type": "code",
      "source": [
        "# Evaluar con el dataset de pruebas\n",
        "test_loss, test_acc = model.evaluate(x=scaled_test_images, y=test_labels, verbose=0)\n",
        "\n",
        "print('Test accuracy is: {:0.4f} \\nTest loss is: {:0.4f}'.\n",
        "      format(test_acc, test_loss))"
      ],
      "metadata": {
        "colab": {
          "base_uri": "https://localhost:8080/"
        },
        "id": "1DqNx8V1bqXA",
        "outputId": "a130809e-0f55-4f74-d129-9b7c6b85abde"
      },
      "execution_count": null,
      "outputs": [
        {
          "output_type": "stream",
          "name": "stdout",
          "text": [
            "Test accuracy is: 0.9457 \n",
            "Test loss is: 0.2086\n"
          ]
        }
      ]
    },
    {
      "cell_type": "markdown",
      "source": [
        "# Observaciones sobre las mejoras\n",
        "El modelo no mejor[o aún con un mayor número de épocas. Aumentar el número de capas convolucionales no tuvo el efecto que se esperaba. Introducir más capas de batch normalizacion y drop out fue el único cambio efectivo, ya que disminuyó el overfitting al mantener las perdidas de validación y entrenamiento en un nivel similar.  \n",
        "\n",
        "Probablemente hacer fine tunning mejoraría este modelo, ya que se se quisieran hacer cambios en la arquitectura, sería mejor implementar un nuevo modelo o hacer transfer learning.\n"
      ],
      "metadata": {
        "id": "GxuI2LVBgIQj"
      }
    },
    {
      "cell_type": "code",
      "source": [
        "# Funcion para hacer predicciones a partir de una imagen:\n",
        "\n",
        "def predict(img_name):\n",
        "  # Abrir imagen con Pillow\n",
        "  img = Image.open(img_name)\n",
        "  # Adaptar el tamaño a 32 x 32\n",
        "  img.thumbnail((32, 32))\n",
        "  # Convertir a un numpy array y graficar imagen\n",
        "  data = asarray(img)\n",
        "  plt.imshow(data)\n",
        "  plt.show()\n",
        "  # Hacer prediccion\n",
        "  pred = model.predict(np.expand_dims(img,0))[0]\n",
        "  # Obtener el digito reconocido\n",
        "  max = pred[0]\n",
        "  n = 1\n",
        "  for i in range(len(pred)):\n",
        "    if pred[i] > max:\n",
        "      max = pred[i]\n",
        "      n = i + 1\n",
        "  print('Prediction: ',n)"
      ],
      "metadata": {
        "id": "0Dqs30NmIXak"
      },
      "execution_count": 75,
      "outputs": []
    },
    {
      "cell_type": "code",
      "source": [
        "predict('numTest.jpg')"
      ],
      "metadata": {
        "colab": {
          "base_uri": "https://localhost:8080/",
          "height": 302
        },
        "id": "A0z5zm9zQOEV",
        "outputId": "d160abae-bc1d-4e8e-e49e-46cd956530be"
      },
      "execution_count": 76,
      "outputs": [
        {
          "output_type": "display_data",
          "data": {
            "text/plain": [
              "<Figure size 432x288 with 1 Axes>"
            ],
            "image/png": "[encoded data removed]"
          },
          "metadata": {
            "needs_background": "light"
          }
        },
        {
          "output_type": "stream",
          "name": "stdout",
          "text": [
            "1/1 [==============================] - 0s 17ms/step\n",
            "Prediction:  2\n"
          ]
        }
      ]
    },
    {
      "cell_type": "code",
      "source": [
        "# Hacer algunas predicciones\n",
        "\n",
        "predict('numTest2.jpg')\n",
        "predict('numTest3.jpg')\n",
        "predict('numTest5.jfif')"
      ],
      "metadata": {
        "colab": {
          "base_uri": "https://localhost:8080/",
          "height": 873
        },
        "id": "FeX6g2PnhYNn",
        "outputId": "b8dce3ff-3fa2-4b03-80cf-1c5fdee5febb"
      },
      "execution_count": 84,
      "outputs": [
        {
          "output_type": "display_data",
          "data": {
            "text/plain": [
              "<Figure size 432x288 with 1 Axes>"
            ],
            "image/png": "[encoded data removed]"
          },
          "metadata": {
            "needs_background": "light"
          }
        },
        {
          "output_type": "stream",
          "name": "stdout",
          "text": [
            "1/1 [==============================] - 0s 33ms/step\n",
            "Prediction:  3\n"
          ]
        },
        {
          "output_type": "display_data",
          "data": {
            "text/plain": [
              "<Figure size 432x288 with 1 Axes>"
            ],
            "image/png": "[encoded data removed]"
          },
          "metadata": {
            "needs_background": "light"
          }
        },
        {
          "output_type": "stream",
          "name": "stdout",
          "text": [
            "1/1 [==============================] - 0s 22ms/step\n",
            "Prediction:  7\n"
          ]
        },
        {
          "output_type": "display_data",
          "data": {
            "text/plain": [
              "<Figure size 432x288 with 1 Axes>"
            ],
            "image/png": "[encoded data removed]"
          },
          "metadata": {
            "needs_background": "light"
          }
        },
        {
          "output_type": "stream",
          "name": "stdout",
          "text": [
            "1/1 [==============================] - 0s 16ms/step\n",
            "Prediction:  3\n"
          ]
        }
      ]
    }
  ]
}