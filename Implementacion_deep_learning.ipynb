{
  "nbformat": 4,
  "nbformat_minor": 0,
  "metadata": {
    "colab": {
      "provenance": []
    },
    "kernelspec": {
      "name": "python3",
      "display_name": "Python 3"
    },
    "language_info": {
      "name": "python"
    },
    "accelerator": "GPU",
    "gpuClass": "standard"
  },
  "cells": [
    {
      "cell_type": "markdown",
      "source": [
        "# Problema seleccionado: Reconocimiento de dígitos en imágenes\n",
        "Se entrenará un modelo para que sea capas de reconocer el número exterior de una casa a partir de una fotografía.\n",
        "\n",
        "Se usará el dataset SVHN (Street View Of House Numbers), el cuál contiene 73,257 digitos de entrenamiento, 26,032 digitos para pruebas y  un conjunto extra de 531,131 digitos más sencillos de analizar, los cuáles pueden usarse para extender el entrenamiento del modelo, pero no se usarán en este ejercicio.\n",
        "\n",
        "Se utilizará la variante del dataset que tiene una versión 32 x 32 de todas las imágenes."
      ],
      "metadata": {
        "id": "6aOr4WDpcswK"
      }
    },
    {
      "cell_type": "code",
      "source": [
        "# Montar la unidad de google drive donde se encuentran las imágenes\n",
        "\n",
        "from google.colab import drive\n",
        "drive.mount('/content/drive')\n",
        "\n",
        "%cd \"/content/drive/MyDrive/SVHN\""
      ],
      "metadata": {
        "colab": {
          "base_uri": "https://localhost:8080/"
        },
        "id": "DuvlHrDOvJiM",
        "outputId": "e384301f-392a-4ee7-c7a1-371da8844dac"
      },
      "execution_count": 3,
      "outputs": [
        {
          "output_type": "stream",
          "name": "stdout",
          "text": [
            "Mounted at /content/drive\n",
            "/content/drive/MyDrive/SVHN\n"
          ]
        }
      ]
    },
    {
      "cell_type": "code",
      "source": [
        "#imports\n",
        "\n",
        "import numpy as np\n",
        "import keras\n",
        "import seaborn as sns\n",
        "from matplotlib import pyplot as plt\n",
        "from scipy.io import loadmat\n",
        "from sklearn.model_selection import train_test_split\n",
        "from sklearn.preprocessing import LabelBinarizer\n",
        "from sklearn.metrics import confusion_matrix\n",
        "from keras.preprocessing.image import ImageDataGenerator\n",
        "\n",
        "%matplotlib inline"
      ],
      "metadata": {
        "id": "2TtqwGTDe5f4"
      },
      "execution_count": 4,
      "outputs": []
    },
    {
      "cell_type": "code",
      "source": [
        "# Establecer un estado aleatorio para numpy\n",
        "\n",
        "np.random.seed(20)"
      ],
      "metadata": {
        "id": "W9bR0Gp3s0lI"
      },
      "execution_count": 5,
      "outputs": []
    },
    {
      "cell_type": "code",
      "source": [
        "# Cargar los datos\n",
        "\n",
        "train_raw = loadmat('train_32x32.mat')\n",
        "test_raw = loadmat('test_32x32.mat')"
      ],
      "metadata": {
        "id": "F7mN6VOdtWPE"
      },
      "execution_count": 6,
      "outputs": []
    },
    {
      "cell_type": "code",
      "source": [
        "# Cargar las imágenes y sus etiquetas\n",
        "\n",
        "train_images = np.array(train_raw['X'])\n",
        "test_images = np.array(test_raw['X'])\n",
        "\n",
        "train_labels = train_raw['y']\n",
        "test_labels = test_raw['y']"
      ],
      "metadata": {
        "id": "XhQeFPqTftEn"
      },
      "execution_count": 7,
      "outputs": []
    },
    {
      "cell_type": "code",
      "source": [
        "# Revisar las dimensiones de los datos\n",
        "\n",
        "print(train_images.shape)\n",
        "print(test_images.shape)"
      ],
      "metadata": {
        "colab": {
          "base_uri": "https://localhost:8080/"
        },
        "id": "qDs3JThFxS2p",
        "outputId": "93223991-23d7-4b42-ee87-30f9b6d2403d"
      },
      "execution_count": null,
      "outputs": [
        {
          "output_type": "stream",
          "name": "stdout",
          "text": [
            "(32, 32, 3, 73257)\n",
            "(32, 32, 3, 26032)\n"
          ]
        }
      ]
    },
    {
      "cell_type": "code",
      "source": [
        "# Acomodar los ejes de las imágenes\n",
        "\n",
        "train_images = np.moveaxis(train_images, -1, 0)\n",
        "test_images = np.moveaxis(test_images, -1, 0)\n",
        "\n",
        "print(train_images.shape)\n",
        "print(test_images.shape)"
      ],
      "metadata": {
        "colab": {
          "base_uri": "https://localhost:8080/"
        },
        "id": "9OrS9_Z7yUNR",
        "outputId": "b2c14d2c-c556-4e05-8474-d890b771fbe7"
      },
      "execution_count": 8,
      "outputs": [
        {
          "output_type": "stream",
          "name": "stdout",
          "text": [
            "(73257, 32, 32, 3)\n",
            "(26032, 32, 32, 3)\n"
          ]
        }
      ]
    },
    {
      "cell_type": "code",
      "source": [
        "# Graficar una imágen aleatoria con su etiqueta\n",
        "\n",
        "plt.imshow(train_images[7610])\n",
        "plt.show()\n",
        "\n",
        "print('Label: ', train_labels[7610])"
      ],
      "metadata": {
        "colab": {
          "base_uri": "https://localhost:8080/",
          "height": 284
        },
        "id": "O1hsrBL8zjnS",
        "outputId": "8f5d8dbf-9d80-4fb9-becb-9d3a95189c5c"
      },
      "execution_count": null,
      "outputs": [
        {
          "output_type": "display_data",
          "data": {
            "text/plain": [
              "<Figure size 432x288 with 1 Axes>"
            ],
            "image/png": "[encoded data removed]"
          },
          "metadata": {
            "needs_background": "light"
          }
        },
        {
          "output_type": "stream",
          "name": "stdout",
          "text": [
            "Label:  [8]\n"
          ]
        }
      ]
    },
    {
      "cell_type": "code",
      "source": [
        "# Convertir las imágenes a 'float64'\n",
        "\n",
        "train_images = train_images.astype('float64')\n",
        "test_images = test_images.astype('float64')\n",
        "\n",
        "# Convertir las etiquetas a 'int64'\n",
        "\n",
        "train_labels = train_labels.astype('int64')\n",
        "test_labels = test_labels.astype('int64')"
      ],
      "metadata": {
        "id": "4_aXLItx9VZe"
      },
      "execution_count": 9,
      "outputs": []
    },
    {
      "cell_type": "code",
      "source": [
        "# Escalar los datos\n",
        "scaled_train_images = train_images/255.0\n",
        "scaled_test_images = test_images/255.0"
      ],
      "metadata": {
        "id": "py90w-xP0rk5"
      },
      "execution_count": 10,
      "outputs": []
    },
    {
      "cell_type": "code",
      "source": [
        "scaled_test_images[0]"
      ],
      "metadata": {
        "colab": {
          "base_uri": "https://localhost:8080/"
        },
        "id": "GhAfEj_Uh0--",
        "outputId": "db45d8a2-711d-4386-8676-880a023cedc8"
      },
      "execution_count": 33,
      "outputs": [
        {
          "output_type": "execute_result",
          "data": {
            "text/plain": [
              "array([[[0.14901961, 0.40392157, 0.23529412],\n",
              "        [0.15294118, 0.40784314, 0.23921569],\n",
              "        [0.15294118, 0.40784314, 0.24313725],\n",
              "        ...,\n",
              "        [0.16078431, 0.4       , 0.23921569],\n",
              "        [0.16470588, 0.40392157, 0.24313725],\n",
              "        [0.15294118, 0.38039216, 0.22352941]],\n",
              "\n",
              "       [[0.15294118, 0.40784314, 0.23921569],\n",
              "        [0.15294118, 0.40784314, 0.23921569],\n",
              "        [0.15294118, 0.40784314, 0.24313725],\n",
              "        ...,\n",
              "        [0.16078431, 0.4       , 0.23921569],\n",
              "        [0.16862745, 0.39607843, 0.24705882],\n",
              "        [0.15294118, 0.38039216, 0.22352941]],\n",
              "\n",
              "       [[0.14901961, 0.41176471, 0.24313725],\n",
              "        [0.14509804, 0.40784314, 0.23921569],\n",
              "        [0.15294118, 0.41568627, 0.24705882],\n",
              "        ...,\n",
              "        [0.16862745, 0.39607843, 0.24705882],\n",
              "        [0.16862745, 0.39215686, 0.25098039],\n",
              "        [0.15294118, 0.38039216, 0.23137255]],\n",
              "\n",
              "       ...,\n",
              "\n",
              "       [[0.20392157, 0.46666667, 0.30588235],\n",
              "        [0.20784314, 0.47058824, 0.30980392],\n",
              "        [0.2       , 0.4627451 , 0.30196078],\n",
              "        ...,\n",
              "        [0.17254902, 0.4627451 , 0.27058824],\n",
              "        [0.17254902, 0.45882353, 0.27843137],\n",
              "        [0.16078431, 0.44705882, 0.27058824]],\n",
              "\n",
              "       [[0.19607843, 0.45882353, 0.29803922],\n",
              "        [0.2       , 0.4627451 , 0.30196078],\n",
              "        [0.19215686, 0.45490196, 0.29411765],\n",
              "        ...,\n",
              "        [0.17254902, 0.45882353, 0.27843137],\n",
              "        [0.17647059, 0.45490196, 0.28235294],\n",
              "        [0.16470588, 0.44313725, 0.27058824]],\n",
              "\n",
              "       [[0.18823529, 0.45098039, 0.29019608],\n",
              "        [0.18823529, 0.45098039, 0.29019608],\n",
              "        [0.18039216, 0.44313725, 0.28235294],\n",
              "        ...,\n",
              "        [0.16862745, 0.45490196, 0.27843137],\n",
              "        [0.17254902, 0.45098039, 0.27843137],\n",
              "        [0.16470588, 0.44313725, 0.27843137]]])"
            ]
          },
          "metadata": {},
          "execution_count": 33
        }
      ]
    },
    {
      "cell_type": "code",
      "source": [
        "# One-hot encoding de las etiquetas de entrenamiento y pruebas\n",
        "\n",
        "lb = LabelBinarizer()\n",
        "train_labels = lb.fit_transform(train_labels)\n",
        "test_labels = lb.fit_transform(test_labels)"
      ],
      "metadata": {
        "id": "-HO7UA379DnD"
      },
      "execution_count": 11,
      "outputs": []
    },
    {
      "cell_type": "code",
      "source": [
        "# Crear un set de validación a partir de los datos de entrenamiento\n",
        "\n",
        "X_train, X_val, y_train, y_val = train_test_split(scaled_train_images, train_labels,\n",
        "                                                  test_size=0.15, random_state=22)"
      ],
      "metadata": {
        "id": "-LvuX2Kx0qin"
      },
      "execution_count": 12,
      "outputs": []
    },
    {
      "cell_type": "code",
      "source": [
        "# Data augmentation\n",
        "\n",
        "datagen = ImageDataGenerator(rotation_range=8,\n",
        "                             zoom_range=[0.95, 1.05],\n",
        "                             height_shift_range=0.10,\n",
        "                             shear_range=0.15)"
      ],
      "metadata": {
        "id": "d-EWF3pL1Dbz"
      },
      "execution_count": 13,
      "outputs": []
    },
    {
      "cell_type": "code",
      "source": [
        "# Crear modelo\n",
        "\n",
        "keras.backend.clear_session()\n",
        "\n",
        "model = keras.Sequential([\n",
        "    keras.layers.Conv2D(32, (3, 3), padding='same', \n",
        "                           activation='relu',\n",
        "                           input_shape=(32, 32, 3)),\n",
        "    keras.layers.Conv2D(32, (3, 3), padding='same', \n",
        "                        activation='relu'),\n",
        "    keras.layers.MaxPooling2D((2, 2)),\n",
        "    keras.layers.Conv2D(64, (3, 3), padding='same', \n",
        "                           activation='relu'),\n",
        "    keras.layers.Conv2D(64, (3, 3), padding='same',\n",
        "                        activation='relu'),\n",
        "    keras.layers.MaxPooling2D((2, 2)),\n",
        "    keras.layers.Conv2D(128, (3, 3), padding='same', \n",
        "                           activation='relu'),\n",
        "    keras.layers.BatchNormalization(),\n",
        "    keras.layers.Conv2D(128, (3, 3), padding='same',\n",
        "                        activation='relu'),\n",
        "    keras.layers.MaxPooling2D((2, 2)),\n",
        "    keras.layers.Dropout(0.3),\n",
        "    \n",
        "    keras.layers.Flatten(),\n",
        "    keras.layers.Dense(128, activation='relu'),\n",
        "    keras.layers.Dropout(0.4),    \n",
        "    keras.layers.Dense(10,  activation='softmax')\n",
        "])\n",
        "\n",
        "early_stopping = keras.callbacks.EarlyStopping(patience=8)\n",
        "optimizer = keras.optimizers.Adam(lr=1e-3, amsgrad=True)\n",
        "model_checkpoint = keras.callbacks.ModelCheckpoint(\n",
        "                   '/kaggle/working/best_cnn.h5', \n",
        "                   save_best_only=True)\n",
        "model.compile(optimizer=optimizer,\n",
        "              loss='categorical_crossentropy',\n",
        "              metrics=['accuracy'])"
      ],
      "metadata": {
        "id": "hST5uQ2U59gd"
      },
      "execution_count": null,
      "outputs": []
    },
    {
      "cell_type": "code",
      "source": [
        "model.summary()"
      ],
      "metadata": {
        "colab": {
          "base_uri": "https://localhost:8080/"
        },
        "id": "AbgWKcWa6M89",
        "outputId": "9558cccd-6ebc-4fae-8ac2-f4b9438b179f"
      },
      "execution_count": null,
      "outputs": [
        {
          "output_type": "stream",
          "name": "stdout",
          "text": [
            "Model: \"sequential\"\n",
            "_________________________________________________________________\n",
            " Layer (type)                Output Shape              Param #   \n",
            "=================================================================\n",
            " conv2d (Conv2D)             (None, 32, 32, 32)        896       \n",
            "                                                                 \n",
            " conv2d_1 (Conv2D)           (None, 32, 32, 32)        9248      \n",
            "                                                                 \n",
            " max_pooling2d (MaxPooling2D  (None, 16, 16, 32)       0         \n",
            " )                                                               \n",
            "                                                                 \n",
            " conv2d_2 (Conv2D)           (None, 16, 16, 64)        18496     \n",
            "                                                                 \n",
            " conv2d_3 (Conv2D)           (None, 16, 16, 64)        36928     \n",
            "                                                                 \n",
            " max_pooling2d_1 (MaxPooling  (None, 8, 8, 64)         0         \n",
            " 2D)                                                             \n",
            "                                                                 \n",
            " conv2d_4 (Conv2D)           (None, 8, 8, 128)         73856     \n",
            "                                                                 \n",
            " batch_normalization (BatchN  (None, 8, 8, 128)        512       \n",
            " ormalization)                                                   \n",
            "                                                                 \n",
            " conv2d_5 (Conv2D)           (None, 8, 8, 128)         147584    \n",
            "                                                                 \n",
            " max_pooling2d_2 (MaxPooling  (None, 4, 4, 128)        0         \n",
            " 2D)                                                             \n",
            "                                                                 \n",
            " dropout (Dropout)           (None, 4, 4, 128)         0         \n",
            "                                                                 \n",
            " flatten (Flatten)           (None, 2048)              0         \n",
            "                                                                 \n",
            " dense (Dense)               (None, 128)               262272    \n",
            "                                                                 \n",
            " dropout_1 (Dropout)         (None, 128)               0         \n",
            "                                                                 \n",
            " dense_1 (Dense)             (None, 10)                1290      \n",
            "                                                                 \n",
            "=================================================================\n",
            "Total params: 551,082\n",
            "Trainable params: 550,826\n",
            "Non-trainable params: 256\n",
            "_________________________________________________________________\n"
          ]
        }
      ]
    },
    {
      "cell_type": "code",
      "source": [
        "# Entrenar al modelo para hacer predicciones\n",
        "\n",
        "history = model.fit_generator(datagen.flow(X_train, y_train, batch_size=128),\n",
        "                              epochs=10, validation_data=(X_val, y_val),\n",
        "                              callbacks=[early_stopping, model_checkpoint])"
      ],
      "metadata": {
        "colab": {
          "base_uri": "https://localhost:8080/"
        },
        "id": "5G85Mu4z2S-3",
        "outputId": "73a2b690-a35a-4d76-a9c5-a4e7c300cb76"
      },
      "execution_count": null,
      "outputs": [
        {
          "output_type": "stream",
          "name": "stdout",
          "text": [
            "Epoch 1/10\n"
          ]
        },
        {
          "output_type": "stream",
          "name": "stderr",
          "text": [
            "/usr/local/lib/python3.7/dist-packages/ipykernel_launcher.py:5: UserWarning: `Model.fit_generator` is deprecated and will be removed in a future version. Please use `Model.fit`, which supports generators.\n",
            "  \"\"\"\n"
          ]
        },
        {
          "output_type": "stream",
          "name": "stdout",
          "text": [
            "487/487 [==============================] - 36s 74ms/step - loss: 1.0857 - accuracy: 0.6382 - val_loss: 1.4641 - val_accuracy: 0.8501\n",
            "Epoch 2/10\n",
            "487/487 [==============================] - 36s 74ms/step - loss: 0.5100 - accuracy: 0.8483 - val_loss: 0.3241 - val_accuracy: 0.9038\n",
            "Epoch 3/10\n",
            "487/487 [==============================] - 35s 72ms/step - loss: 0.4193 - accuracy: 0.8766 - val_loss: 0.2930 - val_accuracy: 0.9139\n",
            "Epoch 4/10\n",
            "487/487 [==============================] - 35s 71ms/step - loss: 0.3693 - accuracy: 0.8938 - val_loss: 0.2850 - val_accuracy: 0.9193\n",
            "Epoch 5/10\n",
            "487/487 [==============================] - 35s 72ms/step - loss: 0.3419 - accuracy: 0.9005 - val_loss: 0.2544 - val_accuracy: 0.9279\n",
            "Epoch 6/10\n",
            "487/487 [==============================] - 35s 71ms/step - loss: 0.3251 - accuracy: 0.9076 - val_loss: 0.2444 - val_accuracy: 0.9339\n",
            "Epoch 7/10\n",
            "487/487 [==============================] - 34s 69ms/step - loss: 0.3006 - accuracy: 0.9143 - val_loss: 0.2298 - val_accuracy: 0.9382\n",
            "Epoch 8/10\n",
            "487/487 [==============================] - 33s 68ms/step - loss: 0.2833 - accuracy: 0.9190 - val_loss: 0.2277 - val_accuracy: 0.9397\n",
            "Epoch 9/10\n",
            "487/487 [==============================] - 36s 74ms/step - loss: 0.2695 - accuracy: 0.9230 - val_loss: 0.2366 - val_accuracy: 0.9354\n",
            "Epoch 10/10\n",
            "487/487 [==============================] - 34s 71ms/step - loss: 0.2581 - accuracy: 0.9269 - val_loss: 0.2292 - val_accuracy: 0.9383\n"
          ]
        }
      ]
    },
    {
      "cell_type": "code",
      "source": [
        "# Evaluar precisiones de entrenamiento, validación y pérdidas\n",
        "\n",
        "train_acc = history.history['accuracy']\n",
        "val_acc = history.history['val_accuracy']\n",
        "\n",
        "train_loss = history.history['loss']\n",
        "val_loss = history.history['val_loss']"
      ],
      "metadata": {
        "id": "6D-X0wqs2_ri"
      },
      "execution_count": null,
      "outputs": []
    },
    {
      "cell_type": "code",
      "source": [
        "# Visualizar epocas vs. precisión de entrenamiento, validación y pérdidas\n",
        "\n",
        "plt.figure(figsize=(20, 10))\n",
        "\n",
        "plt.subplot(1, 2, 1)\n",
        "plt.plot(train_acc, label='Precisión de Entrenamiento')\n",
        "plt.plot(val_acc, label='Precisión de validación')\n",
        "plt.legend()\n",
        "plt.title('Epocas vs. Precisión de Entrenamiento y Validación')\n",
        "    \n",
        "plt.subplot(1, 2, 2)\n",
        "plt.plot(train_loss, label='Training Loss')\n",
        "plt.plot(val_loss, label='Validation Loss')\n",
        "plt.legend()\n",
        "plt.title('Epocas vs. Pérdidas de Entrenamiento y Validacón')\n",
        "\n",
        "plt.show()"
      ],
      "metadata": {
        "colab": {
          "base_uri": "https://localhost:8080/",
          "height": 584
        },
        "id": "-ehwhnduBxbt",
        "outputId": "6694f613-cc83-4159-8925-6b5ffa649185"
      },
      "execution_count": null,
      "outputs": [
        {
          "output_type": "display_data",
          "data": {
            "text/plain": [
              "<Figure size 1440x720 with 2 Axes>"
            ],
            "image/png": "[encoded data removed]"
          },
          "metadata": {
            "needs_background": "light"
          }
        }
      ]
    },
    {
      "cell_type": "code",
      "source": [
        "# Evaluar con el dataset de pruebas\n",
        "test_loss, test_acc = model.evaluate(x=scaled_test_images, y=test_labels, verbose=0)\n",
        "\n",
        "print('Test accuracy is: {:0.4f} \\nTest loss is: {:0.4f}'.\n",
        "      format(test_acc, test_loss))"
      ],
      "metadata": {
        "colab": {
          "base_uri": "https://localhost:8080/"
        },
        "id": "DpszZ9ID30xH",
        "outputId": "87442a83-57a4-4a77-faaf-176c9e66854c"
      },
      "execution_count": null,
      "outputs": [
        {
          "output_type": "stream",
          "name": "stdout",
          "text": [
            "Test accuracy is: 0.9397 \n",
            "Test loss is: 0.2326\n"
          ]
        }
      ]
    },
    {
      "cell_type": "markdown",
      "source": [
        "# Cambios al modelo\n",
        "Cambios en la arquitectura:\n",
        "- Antes se tenían 3 pares de redes convolucionales con capas de Max pooling entre ellas, ahora se implementaran 3 \"bloques\" con tres capas convolucionales, separadas por una capa de Max pooling y otra de dropout.\n",
        "- Igualmente entre las capas convolucionales se agregará batch normalization.\n",
        "\n",
        "Con estos nuevos cambios se busca conseguir un modelo más profundo, evitando el overfitting  y los problemas de gradientes con ayuda de la regularización."
      ],
      "metadata": {
        "id": "GvlvM9dwOKNZ"
      }
    },
    {
      "cell_type": "code",
      "source": [
        "# Nueva arquitectura\n",
        "keras.backend.clear_session()\n",
        "\n",
        "model = keras.Sequential([\n",
        "    # Primer bloque\n",
        "    keras.layers.Conv2D(32, (3, 3), padding='same',       # Capa convolucional número 1\n",
        "                           activation='relu',\n",
        "                           input_shape=(32, 32, 3)),\n",
        "    keras.layers.BatchNormalization(),                    # Batch normalization\n",
        "    keras.layers.Conv2D(32, (3, 3), padding='same',       # Capa convolucional número 2\n",
        "                            activation='relu',\n",
        "                            input_shape=(32, 32, 3)),\n",
        "    keras.layers.BatchNormalization(),                    # Batch normalization\n",
        "    keras.layers.Conv2D(32, (3, 3), padding='same',       # Capa convolucional número 3\n",
        "                        activation='relu',\n",
        "                        input_shape=(32, 32, 3)),\n",
        "    keras.layers.MaxPooling2D((2, 2)),                    # Max pooling\n",
        "    keras.layers.Dropout(0.3),                            # Drop out\n",
        "    # Segundo bloque\n",
        "    keras.layers.Conv2D(64, (3, 3), padding='same',       # Capa convolucional número 4\n",
        "                           activation='relu'),\n",
        "    keras.layers.BatchNormalization(),                    # Batch normalization\n",
        "    keras.layers.Conv2D(64, (3, 3), padding='same',       # Capa convolucional número 5\n",
        "                        activation='relu'),\n",
        "    keras.layers.BatchNormalization(),                    # Batch normalization\n",
        "    keras.layers.Conv2D(64, (3, 3), padding='same',       # Capa convolucional número 6\n",
        "                        activation='relu'),\n",
        "    keras.layers.MaxPooling2D((2, 2)),                    # Max pooling\n",
        "    keras.layers.Dropout(0.3),                            # Drop out\n",
        "    # Tercer bloque\n",
        "    keras.layers.Conv2D(128, (3, 3), padding='same',      # Capa convolucional número 7\n",
        "                           activation='relu'),\n",
        "    keras.layers.BatchNormalization(),                    # Batch normalization\n",
        "    keras.layers.Conv2D(128, (3, 3), padding='same',      # Capa convolucional número 8\n",
        "                        activation='relu'),\n",
        "    keras.layers.BatchNormalization(),                    # Batch normalization\n",
        "    keras.layers.Conv2D(128, (3, 3), padding='same',      # Capa convolucional número 9\n",
        "                        activation='relu'),\n",
        "    keras.layers.MaxPooling2D((2, 2)),                    # Max pooling\n",
        "    keras.layers.Dropout(0.3),                            # Drop out\n",
        "    \n",
        "    keras.layers.Flatten(),\n",
        "    keras.layers.Dense(128, activation='relu'),\n",
        "    keras.layers.Dropout(0.4),    \n",
        "    keras.layers.Dense(10,  activation='softmax')\n",
        "])\n",
        "\n",
        "early_stopping = keras.callbacks.EarlyStopping(patience=8)\n",
        "optimizer = keras.optimizers.Adam(lr=1e-3, amsgrad=True)\n",
        "model_checkpoint = keras.callbacks.ModelCheckpoint(\n",
        "                   '/kaggle/working/best_cnn.h5', \n",
        "                   save_best_only=True)\n",
        "model.compile(optimizer=optimizer,loss='categorical_crossentropy',metrics=['accuracy'])"
      ],
      "metadata": {
        "colab": {
          "base_uri": "https://localhost:8080/"
        },
        "id": "JQjgyvD4P13M",
        "outputId": "91feb5e1-15ce-427b-e3e1-354071e4baef"
      },
      "execution_count": 25,
      "outputs": [
        {
          "output_type": "stream",
          "name": "stderr",
          "text": [
            "/usr/local/lib/python3.7/dist-packages/keras/optimizers/optimizer_v2/adam.py:110: UserWarning: The `lr` argument is deprecated, use `learning_rate` instead.\n",
            "  super(Adam, self).__init__(name, **kwargs)\n"
          ]
        }
      ]
    },
    {
      "cell_type": "code",
      "source": [
        "model.summary()"
      ],
      "metadata": {
        "colab": {
          "base_uri": "https://localhost:8080/"
        },
        "id": "zKlYDNxgbX8q",
        "outputId": "c1ef43cf-88a5-4d78-c48b-e7a9dfd16cc9"
      },
      "execution_count": 26,
      "outputs": [
        {
          "output_type": "stream",
          "name": "stdout",
          "text": [
            "Model: \"sequential\"\n",
            "_________________________________________________________________\n",
            " Layer (type)                Output Shape              Param #   \n",
            "=================================================================\n",
            " conv2d (Conv2D)             (None, 32, 32, 32)        896       \n",
            "                                                                 \n",
            " batch_normalization (BatchN  (None, 32, 32, 32)       128       \n",
            " ormalization)                                                   \n",
            "                                                                 \n",
            " conv2d_1 (Conv2D)           (None, 32, 32, 32)        9248      \n",
            "                                                                 \n",
            " batch_normalization_1 (Batc  (None, 32, 32, 32)       128       \n",
            " hNormalization)                                                 \n",
            "                                                                 \n",
            " conv2d_2 (Conv2D)           (None, 32, 32, 32)        9248      \n",
            "                                                                 \n",
            " max_pooling2d (MaxPooling2D  (None, 16, 16, 32)       0         \n",
            " )                                                               \n",
            "                                                                 \n",
            " dropout (Dropout)           (None, 16, 16, 32)        0         \n",
            "                                                                 \n",
            " conv2d_3 (Conv2D)           (None, 16, 16, 64)        18496     \n",
            "                                                                 \n",
            " batch_normalization_2 (Batc  (None, 16, 16, 64)       256       \n",
            " hNormalization)                                                 \n",
            "                                                                 \n",
            " conv2d_4 (Conv2D)           (None, 16, 16, 64)        36928     \n",
            "                                                                 \n",
            " batch_normalization_3 (Batc  (None, 16, 16, 64)       256       \n",
            " hNormalization)                                                 \n",
            "                                                                 \n",
            " conv2d_5 (Conv2D)           (None, 16, 16, 64)        36928     \n",
            "                                                                 \n",
            " max_pooling2d_1 (MaxPooling  (None, 8, 8, 64)         0         \n",
            " 2D)                                                             \n",
            "                                                                 \n",
            " dropout_1 (Dropout)         (None, 8, 8, 64)          0         \n",
            "                                                                 \n",
            " conv2d_6 (Conv2D)           (None, 8, 8, 128)         73856     \n",
            "                                                                 \n",
            " batch_normalization_4 (Batc  (None, 8, 8, 128)        512       \n",
            " hNormalization)                                                 \n",
            "                                                                 \n",
            " conv2d_7 (Conv2D)           (None, 8, 8, 128)         147584    \n",
            "                                                                 \n",
            " batch_normalization_5 (Batc  (None, 8, 8, 128)        512       \n",
            " hNormalization)                                                 \n",
            "                                                                 \n",
            " conv2d_8 (Conv2D)           (None, 8, 8, 128)         147584    \n",
            "                                                                 \n",
            " max_pooling2d_2 (MaxPooling  (None, 4, 4, 128)        0         \n",
            " 2D)                                                             \n",
            "                                                                 \n",
            " dropout_2 (Dropout)         (None, 4, 4, 128)         0         \n",
            "                                                                 \n",
            " flatten (Flatten)           (None, 2048)              0         \n",
            "                                                                 \n",
            " dense (Dense)               (None, 128)               262272    \n",
            "                                                                 \n",
            " dropout_3 (Dropout)         (None, 128)               0         \n",
            "                                                                 \n",
            " dense_1 (Dense)             (None, 10)                1290      \n",
            "                                                                 \n",
            "=================================================================\n",
            "Total params: 746,122\n",
            "Trainable params: 745,226\n",
            "Non-trainable params: 896\n",
            "_________________________________________________________________\n"
          ]
        }
      ]
    },
    {
      "cell_type": "code",
      "source": [
        "# Entrenar al modelo para hacer predicciones\n",
        "\n",
        "history = model.fit_generator(datagen.flow(X_train, y_train, batch_size=128),\n",
        "                              epochs=10, validation_data=(X_val, y_val),\n",
        "                              callbacks=[early_stopping, model_checkpoint])"
      ],
      "metadata": {
        "colab": {
          "base_uri": "https://localhost:8080/"
        },
        "id": "xENpRfOHba1i",
        "outputId": "961464ff-8270-41f2-8d65-b555ce8d03e2"
      },
      "execution_count": 27,
      "outputs": [
        {
          "output_type": "stream",
          "name": "stdout",
          "text": [
            "Epoch 1/10\n"
          ]
        },
        {
          "output_type": "stream",
          "name": "stderr",
          "text": [
            "/usr/local/lib/python3.7/dist-packages/ipykernel_launcher.py:5: UserWarning: `Model.fit_generator` is deprecated and will be removed in a future version. Please use `Model.fit`, which supports generators.\n",
            "  \"\"\"\n"
          ]
        },
        {
          "output_type": "stream",
          "name": "stdout",
          "text": [
            "487/487 [==============================] - 42s 83ms/step - loss: 1.9797 - accuracy: 0.2910 - val_loss: 1.1860 - val_accuracy: 0.6060\n",
            "Epoch 2/10\n",
            "487/487 [==============================] - 39s 81ms/step - loss: 1.2357 - accuracy: 0.5623 - val_loss: 0.5103 - val_accuracy: 0.8615\n",
            "Epoch 3/10\n",
            "487/487 [==============================] - 37s 75ms/step - loss: 0.7095 - accuracy: 0.7772 - val_loss: 0.3803 - val_accuracy: 0.9000\n",
            "Epoch 4/10\n",
            "487/487 [==============================] - 38s 79ms/step - loss: 0.4490 - accuracy: 0.8750 - val_loss: 0.3007 - val_accuracy: 0.9155\n",
            "Epoch 5/10\n",
            "487/487 [==============================] - 38s 78ms/step - loss: 0.3722 - accuracy: 0.8975 - val_loss: 0.2714 - val_accuracy: 0.9243\n",
            "Epoch 6/10\n",
            "487/487 [==============================] - 41s 85ms/step - loss: 0.3293 - accuracy: 0.9085 - val_loss: 0.2277 - val_accuracy: 0.9396\n",
            "Epoch 7/10\n",
            "487/487 [==============================] - 38s 79ms/step - loss: 0.3029 - accuracy: 0.9163 - val_loss: 0.2311 - val_accuracy: 0.9385\n",
            "Epoch 8/10\n",
            "487/487 [==============================] - 38s 79ms/step - loss: 0.2749 - accuracy: 0.9235 - val_loss: 0.2217 - val_accuracy: 0.9386\n",
            "Epoch 9/10\n",
            "487/487 [==============================] - 37s 76ms/step - loss: 0.2616 - accuracy: 0.9275 - val_loss: 0.1981 - val_accuracy: 0.9470\n",
            "Epoch 10/10\n",
            "487/487 [==============================] - 39s 79ms/step - loss: 0.2506 - accuracy: 0.9300 - val_loss: 0.2398 - val_accuracy: 0.9356\n"
          ]
        }
      ]
    },
    {
      "cell_type": "code",
      "source": [
        "# Evaluar precisiones de entrenamiento, validación y pérdidas\n",
        "\n",
        "train_acc = history.history['accuracy']\n",
        "val_acc = history.history['val_accuracy']\n",
        "\n",
        "train_loss = history.history['loss']\n",
        "val_loss = history.history['val_loss']"
      ],
      "metadata": {
        "id": "fImxVkUqbkDx"
      },
      "execution_count": 28,
      "outputs": []
    },
    {
      "cell_type": "code",
      "source": [
        "# Visualizar epocas vs. precisión de entrenamiento, validación y pérdidas\n",
        "\n",
        "plt.figure(figsize=(20, 10))\n",
        "\n",
        "plt.subplot(1, 2, 1)\n",
        "plt.plot(train_acc, label='Precisión de Entrenamiento')\n",
        "plt.plot(val_acc, label='Precisión de validación')\n",
        "plt.legend()\n",
        "plt.title('Epocas vs. Precisión de Entrenamiento y Validación')\n",
        "    \n",
        "plt.subplot(1, 2, 2)\n",
        "plt.plot(train_loss, label='Training Loss')\n",
        "plt.plot(val_loss, label='Validation Loss')\n",
        "plt.legend()\n",
        "plt.title('Epocas vs. Pérdidas de Entrenamiento y Validacón')\n",
        "\n",
        "plt.show()"
      ],
      "metadata": {
        "colab": {
          "base_uri": "https://localhost:8080/",
          "height": 607
        },
        "id": "j0Z0ygqxbnMt",
        "outputId": "78837448-abf9-4950-a7a7-64d08c698d12"
      },
      "execution_count": 29,
      "outputs": [
        {
          "output_type": "display_data",
          "data": {
            "text/plain": [
              "<Figure size 1440x720 with 2 Axes>"
            ],
            "image/png": "[encoded data removed]"
          },
          "metadata": {
            "needs_background": "light"
          }
        }
      ]
    },
    {
      "cell_type": "code",
      "source": [
        "# Evaluar con el dataset de pruebas\n",
        "test_loss, test_acc = model.evaluate(x=scaled_test_images, y=test_labels, verbose=0)\n",
        "\n",
        "print('Test accuracy is: {:0.4f} \\nTest loss is: {:0.4f}'.\n",
        "      format(test_acc, test_loss))"
      ],
      "metadata": {
        "colab": {
          "base_uri": "https://localhost:8080/"
        },
        "id": "1DqNx8V1bqXA",
        "outputId": "bd9d6a85-bb5a-47ba-897f-425f27040224"
      },
      "execution_count": 30,
      "outputs": [
        {
          "output_type": "stream",
          "name": "stdout",
          "text": [
            "Test accuracy is: 0.9420 \n",
            "Test loss is: 0.2226\n"
          ]
        }
      ]
    },
    {
      "cell_type": "markdown",
      "source": [
        "# Observaciones sobre las mejoras\n",
        "El modelo tuvo una mejora mínima. Probablemente el aumentar el número de capas convolucionales no tuvo el efecto que se esperaba, sin embargo el introducir más capas de batch normalizacion y drop out fue un cambio efectivo que permitió tener más capas convolucionales en el modelo sin caer en overfitting.  \n",
        "\n",
        "Probablemente hacer fine tunning mejoraría este modelo, ya que se se quisieran hacer cambios en la arquitectura, sería mejor implementar un nuevo modelo o hacer transfer learning.\n"
      ],
      "metadata": {
        "id": "GxuI2LVBgIQj"
      }
    },
    {
      "cell_type": "code",
      "source": [
        "# Hacer algunas predicciones\n",
        "\n",
        "def predict(img_num):\n",
        "  ypred = model.predict(np.expand_dims(test_images[img_num], 0))[0]\n",
        "  max = ypred[0]\n",
        "  n = 1\n",
        "  for i in range(len(ypred)):\n",
        "    if ypred[i] > max:\n",
        "      max = ypred[i]\n",
        "      n = i + 1 \n",
        "  return n\n",
        "\n",
        "img_num = 0\n",
        "ypred = predict(img_num)\n",
        "print(\"Prediccion: \",ypred)\n",
        "plt.imshow(scaled_test_images[img_num])\n",
        "plt.show()\n",
        "print(test_labels[img_num])\n",
        "\n",
        "img_num = 100\n",
        "ypred = predict(img_num)\n",
        "print(\"Prediccion: \",ypred)\n",
        "plt.imshow(scaled_test_images[img_num])\n",
        "plt.show()\n",
        "print(test_labels[img_num])\n",
        "\n",
        "img_num = 1000\n",
        "ypred = predict(img_num)\n",
        "print(\"Prediccion: \",ypred)\n",
        "plt.imshow(scaled_test_images[img_num])\n",
        "plt.show()\n",
        "print(test_labels[img_num])"
      ],
      "metadata": {
        "colab": {
          "base_uri": "https://localhost:8080/",
          "height": 927
        },
        "id": "FeX6g2PnhYNn",
        "outputId": "c937dd1b-fd1e-4fae-8001-af76b56c7cbf"
      },
      "execution_count": 87,
      "outputs": [
        {
          "output_type": "stream",
          "name": "stdout",
          "text": [
            "1/1 [==============================] - 0s 17ms/step\n",
            "Prediccion:  5\n"
          ]
        },
        {
          "output_type": "display_data",
          "data": {
            "text/plain": [
              "<Figure size 432x288 with 1 Axes>"
            ],
            "image/png": "[encoded data removed]"
          },
          "metadata": {
            "needs_background": "light"
          }
        },
        {
          "output_type": "stream",
          "name": "stdout",
          "text": [
            "[0 0 0 0 1 0 0 0 0 0]\n",
            "1/1 [==============================] - 0s 16ms/step\n",
            "Prediccion:  4\n"
          ]
        },
        {
          "output_type": "display_data",
          "data": {
            "text/plain": [
              "<Figure size 432x288 with 1 Axes>"
            ],
            "image/png": "[encoded data removed]"
          },
          "metadata": {
            "needs_background": "light"
          }
        },
        {
          "output_type": "stream",
          "name": "stdout",
          "text": [
            "[0 0 0 1 0 0 0 0 0 0]\n",
            "1/1 [==============================] - 0s 18ms/step\n",
            "Prediccion:  3\n"
          ]
        },
        {
          "output_type": "display_data",
          "data": {
            "text/plain": [
              "<Figure size 432x288 with 1 Axes>"
            ],
            "image/png": "[encoded data removed]"
          },
          "metadata": {
            "needs_background": "light"
          }
        },
        {
          "output_type": "stream",
          "name": "stdout",
          "text": [
            "[0 0 0 0 1 0 0 0 0 0]\n"
          ]
        }
      ]
    }
  ]
}